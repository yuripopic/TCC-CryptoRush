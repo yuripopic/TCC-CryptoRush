{
 "cells": [
  {
   "cell_type": "markdown",
   "metadata": {},
   "source": [
    "# Bibliotecas"
   ]
  },
  {
   "cell_type": "code",
   "execution_count": 6,
   "metadata": {},
   "outputs": [],
   "source": [
    "import pandas as pd\n",
    "from pathlib import Path\n",
    "import os"
   ]
  },
  {
   "cell_type": "markdown",
   "metadata": {},
   "source": [
    "# Tratar bases"
   ]
  },
  {
   "cell_type": "code",
   "execution_count": 34,
   "metadata": {},
   "outputs": [],
   "source": [
    "# !!!!!!!!!!!!!!!!!!!!!!!!!!!!!!!!!!!!!!!!!!!!!\n",
    "# SÓ RODAR CASO AS BASES NÃO ESTIVEREM TRATADAS\n",
    "# !!!!!!!!!!!!!!!!!!!!!!!!!!!!!!!!!!!!!!!!!!!!!\n",
    "\n",
    "# Diretório base onde os arquivos CSV estão localizados\n",
    "base_diretório = Path(os.getcwd())\n",
    "diretório_princapl = base_diretório.parent\n",
    "caminho = diretório_princapl / 'Bases'\n",
    "\n",
    "# Definir os caminhos para cada criptomoeda\n",
    "arquivos = {\n",
    "    'Bitcoin': caminho / 'Bitcoin Historical Data.csv',\n",
    "    'Ethereum': caminho / 'Ethereum Historical Data.csv',\n",
    "    'BNB': caminho / 'BNB Historical Data.csv',\n",
    "    'Solana': caminho / 'Solana Historical Data.csv'\n",
    "}\n",
    "\n",
    "# Ler o arquivo ano.txt e pegar o ano\n",
    "with open(diretório_princapl/'data'/'ano.txt', 'r') as file:\n",
    "    ano = int(file.read().strip())\n",
    "\n",
    "# Função para tratar os dados de cada criptomoeda\n",
    "def tratar_dados_cripto(caminho_csv):\n",
    "    # Ler o arquivo CSV\n",
    "    acao = pd.read_csv(caminho_csv)\n",
    "\n",
    "    # Formatar a coluna de data\n",
    "    acao['Date'] = pd.to_datetime(acao['Date'], format='%m/%d/%Y')\n",
    "\n",
    "    # Converter as colunas de dinheiro para float\n",
    "    colunas_dinheiro = ['Price', 'Open', 'High', 'Low']\n",
    "    for coluna in colunas_dinheiro:\n",
    "        if acao[coluna].dtype == 'object':  \n",
    "            acao[coluna] = pd.to_numeric(acao[coluna].str.replace(',', ''))\n",
    "\n",
    "    # Converter a coluna 'Change %' para float\n",
    "    if acao['Change %'].dtype == 'object':  \n",
    "        acao['Change %'] = pd.to_numeric(acao['Change %'].str.replace('%', ''))\n",
    "\n",
    "    # Função para converter o volume (coluna 'Vol.') para número\n",
    "    def converter_vol_para_numero(valor):\n",
    "        if isinstance(valor, str):  # Verifica se o valor é uma string\n",
    "            if 'K' in valor:\n",
    "                return float(valor.replace('K', '').replace(',', '')) * 1000\n",
    "            elif 'M' in valor:\n",
    "                return float(valor.replace('M', '').replace(',', '')) * 1000000\n",
    "            elif 'B' in valor:\n",
    "                return float(valor.replace('B', '').replace(',', '')) * 1000000000\n",
    "            else:\n",
    "                return float(valor.replace(',', ''))\n",
    "        else:\n",
    "            return valor  # Retorna o valor diretamente se já for numérico\n",
    "\n",
    "    # Aplicar a função na coluna 'Vol.'\n",
    "    acao['Vol.'] = acao['Vol.'].apply(converter_vol_para_numero)\n",
    "\n",
    "    # Ordenar os dados pela data\n",
    "    acao = acao.sort_values(by='Date', ascending=True)\n",
    "\n",
    "    # Renomear a coluna 'Vol.' para 'Volume'\n",
    "    acao = acao.rename(columns={'Vol.': 'Volume'})\n",
    "\n",
    "    return acao\n",
    "\n",
    "# Aplicar a função para cada criptomoeda e armazenar o resultado em um DataFrame\n",
    "df_bitcoin = tratar_dados_cripto(arquivos['Bitcoin'])\n",
    "df_ethereum = tratar_dados_cripto(arquivos['Ethereum'])\n",
    "df_bnb = tratar_dados_cripto(arquivos['BNB'])\n",
    "df_solana = tratar_dados_cripto(arquivos['Solana'])\n",
    "\n",
    "df_bitcoin.to_csv(\"Bitcoin Historical Data.csv\", index=False)\n",
    "df_ethereum.to_csv(\"Ethereum Historical Data.csv\", index=False)\n",
    "df_bnb.to_csv(\"BNB Historical Data.csv\", index=False)\n",
    "df_solana.to_csv(\"Solana Historical Data.csv\", index=False)\n"
   ]
  }
 ],
 "metadata": {
  "kernelspec": {
   "display_name": "Python 3",
   "language": "python",
   "name": "python3"
  },
  "language_info": {
   "codemirror_mode": {
    "name": "ipython",
    "version": 3
   },
   "file_extension": ".py",
   "mimetype": "text/x-python",
   "name": "python",
   "nbconvert_exporter": "python",
   "pygments_lexer": "ipython3",
   "version": "3.10.11"
  }
 },
 "nbformat": 4,
 "nbformat_minor": 2
}
