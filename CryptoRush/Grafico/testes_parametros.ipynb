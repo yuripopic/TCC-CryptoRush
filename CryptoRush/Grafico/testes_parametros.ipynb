{
 "cells": [
  {
   "cell_type": "code",
   "execution_count": 2,
   "metadata": {},
   "outputs": [
    {
     "name": "stderr",
     "output_type": "stream",
     "text": [
      "c:\\Users\\Arq. Andrea\\AppData\\Local\\Programs\\Python\\Python310\\lib\\site-packages\\keras\\src\\layers\\rnn\\rnn.py:204: UserWarning: Do not pass an `input_shape`/`input_dim` argument to a layer. When using Sequential models, prefer using an `Input(shape)` object as the first layer in the model instead.\n",
      "  super().__init__(**kwargs)\n"
     ]
    },
    {
     "name": "stdout",
     "output_type": "stream",
     "text": [
      "\u001b[1m18/18\u001b[0m \u001b[32m━━━━━━━━━━━━━━━━━━━━\u001b[0m\u001b[37m\u001b[0m \u001b[1m0s\u001b[0m 15ms/step\n"
     ]
    },
    {
     "name": "stderr",
     "output_type": "stream",
     "text": [
      "c:\\Users\\Arq. Andrea\\AppData\\Local\\Programs\\Python\\Python310\\lib\\site-packages\\sklearn\\metrics\\_regression.py:492: FutureWarning: 'squared' is deprecated in version 1.4 and will be removed in 1.6. To calculate the root mean squared error, use the function'root_mean_squared_error'.\n",
      "  warnings.warn(\n",
      "c:\\Users\\Arq. Andrea\\AppData\\Local\\Programs\\Python\\Python310\\lib\\site-packages\\keras\\src\\layers\\rnn\\rnn.py:204: UserWarning: Do not pass an `input_shape`/`input_dim` argument to a layer. When using Sequential models, prefer using an `Input(shape)` object as the first layer in the model instead.\n",
      "  super().__init__(**kwargs)\n"
     ]
    },
    {
     "name": "stdout",
     "output_type": "stream",
     "text": [
      "\u001b[1m18/18\u001b[0m \u001b[32m━━━━━━━━━━━━━━━━━━━━\u001b[0m\u001b[37m\u001b[0m \u001b[1m1s\u001b[0m 18ms/step\n"
     ]
    },
    {
     "name": "stderr",
     "output_type": "stream",
     "text": [
      "c:\\Users\\Arq. Andrea\\AppData\\Local\\Programs\\Python\\Python310\\lib\\site-packages\\sklearn\\metrics\\_regression.py:492: FutureWarning: 'squared' is deprecated in version 1.4 and will be removed in 1.6. To calculate the root mean squared error, use the function'root_mean_squared_error'.\n",
      "  warnings.warn(\n",
      "c:\\Users\\Arq. Andrea\\AppData\\Local\\Programs\\Python\\Python310\\lib\\site-packages\\keras\\src\\layers\\rnn\\rnn.py:204: UserWarning: Do not pass an `input_shape`/`input_dim` argument to a layer. When using Sequential models, prefer using an `Input(shape)` object as the first layer in the model instead.\n",
      "  super().__init__(**kwargs)\n"
     ]
    },
    {
     "name": "stdout",
     "output_type": "stream",
     "text": [
      "\u001b[1m18/18\u001b[0m \u001b[32m━━━━━━━━━━━━━━━━━━━━\u001b[0m\u001b[37m\u001b[0m \u001b[1m0s\u001b[0m 15ms/step\n"
     ]
    },
    {
     "name": "stderr",
     "output_type": "stream",
     "text": [
      "c:\\Users\\Arq. Andrea\\AppData\\Local\\Programs\\Python\\Python310\\lib\\site-packages\\sklearn\\metrics\\_regression.py:492: FutureWarning: 'squared' is deprecated in version 1.4 and will be removed in 1.6. To calculate the root mean squared error, use the function'root_mean_squared_error'.\n",
      "  warnings.warn(\n",
      "c:\\Users\\Arq. Andrea\\AppData\\Local\\Programs\\Python\\Python310\\lib\\site-packages\\keras\\src\\layers\\rnn\\rnn.py:204: UserWarning: Do not pass an `input_shape`/`input_dim` argument to a layer. When using Sequential models, prefer using an `Input(shape)` object as the first layer in the model instead.\n",
      "  super().__init__(**kwargs)\n"
     ]
    },
    {
     "name": "stdout",
     "output_type": "stream",
     "text": [
      "\u001b[1m18/18\u001b[0m \u001b[32m━━━━━━━━━━━━━━━━━━━━\u001b[0m\u001b[37m\u001b[0m \u001b[1m0s\u001b[0m 16ms/step\n"
     ]
    },
    {
     "name": "stderr",
     "output_type": "stream",
     "text": [
      "c:\\Users\\Arq. Andrea\\AppData\\Local\\Programs\\Python\\Python310\\lib\\site-packages\\sklearn\\metrics\\_regression.py:492: FutureWarning: 'squared' is deprecated in version 1.4 and will be removed in 1.6. To calculate the root mean squared error, use the function'root_mean_squared_error'.\n",
      "  warnings.warn(\n",
      "c:\\Users\\Arq. Andrea\\AppData\\Local\\Programs\\Python\\Python310\\lib\\site-packages\\keras\\src\\layers\\rnn\\rnn.py:204: UserWarning: Do not pass an `input_shape`/`input_dim` argument to a layer. When using Sequential models, prefer using an `Input(shape)` object as the first layer in the model instead.\n",
      "  super().__init__(**kwargs)\n"
     ]
    },
    {
     "name": "stdout",
     "output_type": "stream",
     "text": [
      "\u001b[1m18/18\u001b[0m \u001b[32m━━━━━━━━━━━━━━━━━━━━\u001b[0m\u001b[37m\u001b[0m \u001b[1m1s\u001b[0m 19ms/step\n"
     ]
    },
    {
     "name": "stderr",
     "output_type": "stream",
     "text": [
      "c:\\Users\\Arq. Andrea\\AppData\\Local\\Programs\\Python\\Python310\\lib\\site-packages\\sklearn\\metrics\\_regression.py:492: FutureWarning: 'squared' is deprecated in version 1.4 and will be removed in 1.6. To calculate the root mean squared error, use the function'root_mean_squared_error'.\n",
      "  warnings.warn(\n",
      "c:\\Users\\Arq. Andrea\\AppData\\Local\\Programs\\Python\\Python310\\lib\\site-packages\\keras\\src\\layers\\rnn\\rnn.py:204: UserWarning: Do not pass an `input_shape`/`input_dim` argument to a layer. When using Sequential models, prefer using an `Input(shape)` object as the first layer in the model instead.\n",
      "  super().__init__(**kwargs)\n"
     ]
    },
    {
     "name": "stdout",
     "output_type": "stream",
     "text": [
      "\u001b[1m18/18\u001b[0m \u001b[32m━━━━━━━━━━━━━━━━━━━━\u001b[0m\u001b[37m\u001b[0m \u001b[1m1s\u001b[0m 19ms/step\n"
     ]
    },
    {
     "name": "stderr",
     "output_type": "stream",
     "text": [
      "c:\\Users\\Arq. Andrea\\AppData\\Local\\Programs\\Python\\Python310\\lib\\site-packages\\sklearn\\metrics\\_regression.py:492: FutureWarning: 'squared' is deprecated in version 1.4 and will be removed in 1.6. To calculate the root mean squared error, use the function'root_mean_squared_error'.\n",
      "  warnings.warn(\n",
      "c:\\Users\\Arq. Andrea\\AppData\\Local\\Programs\\Python\\Python310\\lib\\site-packages\\keras\\src\\layers\\rnn\\rnn.py:204: UserWarning: Do not pass an `input_shape`/`input_dim` argument to a layer. When using Sequential models, prefer using an `Input(shape)` object as the first layer in the model instead.\n",
      "  super().__init__(**kwargs)\n"
     ]
    },
    {
     "name": "stdout",
     "output_type": "stream",
     "text": [
      "\u001b[1m18/18\u001b[0m \u001b[32m━━━━━━━━━━━━━━━━━━━━\u001b[0m\u001b[37m\u001b[0m \u001b[1m1s\u001b[0m 21ms/step\n"
     ]
    },
    {
     "name": "stderr",
     "output_type": "stream",
     "text": [
      "c:\\Users\\Arq. Andrea\\AppData\\Local\\Programs\\Python\\Python310\\lib\\site-packages\\sklearn\\metrics\\_regression.py:492: FutureWarning: 'squared' is deprecated in version 1.4 and will be removed in 1.6. To calculate the root mean squared error, use the function'root_mean_squared_error'.\n",
      "  warnings.warn(\n",
      "c:\\Users\\Arq. Andrea\\AppData\\Local\\Programs\\Python\\Python310\\lib\\site-packages\\keras\\src\\layers\\rnn\\rnn.py:204: UserWarning: Do not pass an `input_shape`/`input_dim` argument to a layer. When using Sequential models, prefer using an `Input(shape)` object as the first layer in the model instead.\n",
      "  super().__init__(**kwargs)\n"
     ]
    },
    {
     "name": "stdout",
     "output_type": "stream",
     "text": [
      "\u001b[1m18/18\u001b[0m \u001b[32m━━━━━━━━━━━━━━━━━━━━\u001b[0m\u001b[37m\u001b[0m \u001b[1m1s\u001b[0m 21ms/step\n",
      "   neurons  dropout  epochs          MAE      MAPE         RMSE        R2\n",
      "0       50      0.2      10  1367.537837  0.028572  1918.931088  0.986541\n",
      "1       50      0.2      20  1237.172427  0.031732  1537.496198  0.991360\n",
      "2       50      0.3      10  1751.110347  0.035002  2456.727887  0.977941\n",
      "3       50      0.3      20  1799.018059  0.036978  2472.547921  0.977656\n",
      "4      100      0.2      10  1771.817134  0.033455  2635.945657  0.974605\n",
      "5      100      0.2      20  1008.688198  0.024642  1352.992132  0.993309\n",
      "6      100      0.3      10   960.553776  0.020833  1447.708504  0.992340\n",
      "7      100      0.3      20   993.974829  0.020940  1507.433424  0.991695\n",
      "\n",
      "Melhor Modelo: Neurônios=100.0, Dropout=0.2, Epochs=20.0\n"
     ]
    },
    {
     "name": "stderr",
     "output_type": "stream",
     "text": [
      "c:\\Users\\Arq. Andrea\\AppData\\Local\\Programs\\Python\\Python310\\lib\\site-packages\\sklearn\\metrics\\_regression.py:492: FutureWarning: 'squared' is deprecated in version 1.4 and will be removed in 1.6. To calculate the root mean squared error, use the function'root_mean_squared_error'.\n",
      "  warnings.warn(\n"
     ]
    }
   ],
   "source": [
    "import numpy as np\n",
    "import pandas as pd\n",
    "from sklearn.preprocessing import MinMaxScaler \n",
    "from sklearn.metrics import mean_absolute_error, mean_absolute_percentage_error, r2_score, mean_squared_error\n",
    "from keras.models import Sequential\n",
    "from keras.layers import Dense, LSTM, Dropout\n",
    "import matplotlib.pyplot as plt\n",
    "from pathlib import Path\n",
    "import os\n",
    "\n",
    "# Diretório onde o script está localizado\n",
    "base_diretório = Path(os.getcwd())\n",
    "base_diretório = base_diretório.parent\n",
    "caminho = base_diretório / 'Bases' / 'Bitcoin Historical Data.csv'\n",
    "\n",
    "# Ler arquivo da base\n",
    "acao = pd.read_csv(caminho)\n",
    "\n",
    "# Formatar data\n",
    "acao['Date'] = pd.to_datetime(acao['Date'], format='%m/%d/%Y')\n",
    "\n",
    "# Filtrar a data em que vamos puxar os dados\n",
    "# acao = acao[acao['Date'].dt.year >= 2023]\n",
    "\n",
    "# Converter as colunas referentes a dinheiro para float\n",
    "colunas_dinheiro = ['Price', 'Open', 'High', 'Low']\n",
    "for coluna in colunas_dinheiro:\n",
    "    if acao[coluna].dtype == 'object':  \n",
    "        acao[coluna] = pd.to_numeric(acao[coluna].str.replace(',', ''))\n",
    "\n",
    "# Converter a coluna 'Change %' para float\n",
    "if acao['Change %'].dtype == 'object':  \n",
    "    acao['Change %'] = pd.to_numeric(acao['Change %'].str.replace('%', ''))\n",
    "\n",
    "def converter_vol_para_numero(valor):\n",
    "    if isinstance(valor, str):  # Verifica se o valor é uma string\n",
    "        if 'K' in valor:\n",
    "            return float(valor.replace('K', '').replace(',', '')) * 1000\n",
    "        elif 'M' in valor:\n",
    "            return float(valor.replace('M', '').replace(',', '')) * 1000000\n",
    "        elif 'B' in valor:\n",
    "            return float(valor.replace('B', '').replace(',', '')) * 1000000000\n",
    "        else:\n",
    "            return float(valor.replace(',', ''))\n",
    "    else:\n",
    "        return valor  # Retorna o valor diretamente se já for numérico\n",
    "\n",
    "# Aplicar a função na coluna 'Vol.'\n",
    "acao['Vol.'] = acao['Vol.'].apply(converter_vol_para_numero)\n",
    "\n",
    "# Ordenar data das bases\n",
    "acao = acao.sort_values(by='Date', ascending=True)\n",
    "\n",
    "# Renomear coluna\n",
    "acao = acao.rename(columns={'Vol.': 'Volume'})\n",
    "\n",
    "\n",
    "# Transforma o array de uma dimensão (array([price1, price2, price3, ...])) \n",
    "# em um array 2D com uma coluna (array([[price1], [price2], [price3], ...]))\n",
    "cotacao = acao['Price'].to_numpy().reshape(-1, 1)\n",
    "\n",
    "# Separar 80% da base para treinamento\n",
    "tamanho_dados_treinamento = int(len(cotacao) * 0.8)\n",
    "\n",
    "# Escalar os dados entre 0 e 1\n",
    "escalador = MinMaxScaler(feature_range=(0, 1))\n",
    "dados_entre_0_e_1_treinamento = escalador.fit_transform(cotacao[0:tamanho_dados_treinamento, :])\n",
    "dados_entre_0_e_1_teste = escalador.transform(cotacao[tamanho_dados_treinamento:, :])\n",
    "\n",
    "dados_entre_0_e_1 = np.concatenate((dados_entre_0_e_1_treinamento, dados_entre_0_e_1_teste), axis=0)\n",
    "\n",
    "dados_para_treinamento = dados_entre_0_e_1[0:tamanho_dados_treinamento, :]\n",
    "treinamento_x, treinamento_y = [], []\n",
    "\n",
    "for i in range(60, len(dados_para_treinamento)):\n",
    "    treinamento_x.append(dados_para_treinamento[i - 60:i, 0])\n",
    "    treinamento_y.append(dados_para_treinamento[i, 0])\n",
    "\n",
    "# Transformando listas em arrays\n",
    "treinamento_x, treinamento_y = np.array(treinamento_x), np.array(treinamento_y)\n",
    "treinamento_x = treinamento_x.reshape(treinamento_x.shape[0], treinamento_x.shape[1], 1)\n",
    "\n",
    "# Parâmetros para otimização\n",
    "neurons_options = [50, 100]\n",
    "batch_size_options = [10, 20]\n",
    "epochs_options = [10, 20]\n",
    "\n",
    "results = []\n",
    "\n",
    "for neurons in neurons_options:\n",
    "    for batch_size in batch_size_options:\n",
    "        for epochs in epochs_options:\n",
    "            # Construindo o modelo\n",
    "            modelo = Sequential()\n",
    "            modelo.add(LSTM(neurons, return_sequences=True, input_shape=(treinamento_x.shape[1], 1)))\n",
    "            modelo.add(LSTM(neurons // 2, return_sequences=False))\n",
    "            modelo.add(Dense((neurons // 2)//2))\n",
    "            modelo.add(Dense(1))\n",
    "\n",
    "            # Compilando o modelo\n",
    "            modelo.compile(optimizer=\"adam\", loss=\"mean_squared_error\")\n",
    "            \n",
    "            # Treinando o modelo\n",
    "            modelo.fit(treinamento_x, treinamento_y, batch_size=batch_size, epochs=epochs, verbose=0)\n",
    "\n",
    "            # Criando dados de teste\n",
    "            dados_teste = dados_entre_0_e_1[tamanho_dados_treinamento - 60:, :]\n",
    "            teste_x = []\n",
    "            teste_y = cotacao[tamanho_dados_treinamento:, :]\n",
    "\n",
    "            for i in range(60, len(dados_teste)):\n",
    "                teste_x.append(dados_teste[i - 60:i, 0])\n",
    "\n",
    "            teste_x = np.array(teste_x).reshape(len(teste_x), 60, 1)\n",
    "\n",
    "            # Pegando predições do modelo\n",
    "            predicoes = modelo.predict(teste_x)\n",
    "            predicoes = escalador.inverse_transform(predicoes)\n",
    "            \n",
    "            # Criar df\n",
    "            df_previsao = pd.DataFrame({\"Date\": acao['Date'].iloc[tamanho_dados_treinamento:],\n",
    "                                        \"Price\": acao['Price'].iloc[tamanho_dados_treinamento:],\n",
    "                                        \"predicoes\": predicoes.reshape(len(predicoes))\n",
    "                                      })\n",
    "            \n",
    "            df_previsao.set_index('Date', inplace=True)\n",
    "            \n",
    "            df_previsao['Semana'] = ((df_previsao.index - df_previsao.index.min()).days // 7) + 1\n",
    "            \n",
    "            \n",
    "            #========================== DIARIO ==========================\n",
    "            # Cálculo da variação percentual entre os valores consecutivos\n",
    "            df_diario['Variação Real (%)'] = df_previsao['Price'].pct_change() * 100\n",
    "            df_diario['Variação Prevista (%)'] = df_previsao['predicoes'].pct_change() * 100\n",
    "\n",
    "            # Remover NaN (primeira linha não terá variação por não ter valor anterior)\n",
    "            df_diario = df_diario.dropna()\n",
    "\n",
    "            # Calcular se a direção do valor previsto foi igual ao real (1 = acertou | 0 = errou)\n",
    "            df_diario['direcao_correta'] = np.where(\n",
    "                (df_diario['Variação Real (%)'] > 0) & (df_diario['Variação Prevista (%)'] > 0) |\n",
    "                (df_diario['Variação Real (%)'] < 0) & (df_diario['Variação Prevista (%)'] < 0),\n",
    "                1, 0\n",
    "            )\n",
    "\n",
    "            # Calcular a métrica de Erro de Direção (Directional Accuracy)\n",
    "            directional_accuracy_diario = df_diario['direcao_correta'].mean()\n",
    "            directional_accuracy_diario = round(directional_accuracy_diario * 100, 2)\n",
    "            \n",
    "            #========================== SEMANAL ==========================\n",
    "            # Agrupar por semana e calcular o preço médio semanal para real e previsões\n",
    "            df_semana = df_previsao.groupby('Semana').agg({\n",
    "                'Price': 'mean',        # Preço real médio por semana\n",
    "                'predicoes': 'mean'     # Previsão média por semana\n",
    "            })\n",
    "\n",
    "            # Calcular a variação percentual semanal para Price e Predicoes\n",
    "            df_semana['Variação Real (%)'] = df_semana['Price'].pct_change() * 100\n",
    "            df_semana['Variação Prevista (%)'] = df_semana['predicoes'].pct_change() * 100\n",
    "\n",
    "\n",
    "            # Remover NaN (primeira linha não terá variação por não ter valor anterior)\n",
    "            df_semana = df_semana.dropna()\n",
    "\n",
    "            # Calcular se a direção do valor previsto foi igual ao real (1 = acertou | 0 = errou)\n",
    "            df_semana['direcao_correta'] = np.where(\n",
    "                (df_semana['Variação Real (%)'] > 0) & (df_semana['Variação Prevista (%)'] > 0) |\n",
    "                (df_semana['Variação Real (%)'] < 0) & (df_semana['Variação Prevista (%)'] < 0),\n",
    "                1, 0\n",
    "            )\n",
    "\n",
    "            # Calcular a métrica de Erro de Direção (Directional Accuracy)\n",
    "            directional_accuracy_semanal = df_semana['direcao_correta'].mean()\n",
    "            directional_accuracy_semanal = round(directional_accuracy_semanal * 100, 2)\n",
    "\n",
    "\n",
    "            # Avaliando o modelo\n",
    "            mae = mean_absolute_error(teste_y, predicoes)\n",
    "            mape = mean_absolute_percentage_error(teste_y, predicoes)\n",
    "            rmse = mean_squared_error(teste_y, predicoes, squared=False)\n",
    "            r2 = r2_score(teste_y, predicoes)\n",
    "\n",
    "            # Armazenando os resultados\n",
    "            results.append({\n",
    "                'neurons': neurons,\n",
    "                'batch_size': batch_size,\n",
    "                'epochs': epochs,\n",
    "                'MAE': mae,\n",
    "                'MAPE': mape,\n",
    "                'RMSE': rmse,\n",
    "                'R2': r2,\n",
    "                'directional_accuracy_diario': directional_accuracy_diario,\n",
    "                'directional_accuracy_semanal': directional_accuracy_semanal\n",
    "            })\n",
    "\n",
    "# Convertendo resultados em DataFrame\n",
    "results_df = pd.DataFrame(results)\n",
    "\n",
    "# Exibindo resultados\n",
    "print(results_df)\n",
    "\n",
    "# results_df.to_excel(\"Resultado teste parametros.xlsx\")\n",
    "\n",
    "# Gráfico do melhor modelo (opcional)\n",
    "best_model = results_df.loc[results_df['directional_accuracy_semanal'].idxmax()]\n",
    "\n",
    "print(f\"\\nMelhor Modelo: Neurônios={best_model['neurons']}, batch_size={best_model['batch_size']}, Epochs={best_model['epochs']}\")\n"
   ]
  }
 ],
 "metadata": {
  "kernelspec": {
   "display_name": "Python 3",
   "language": "python",
   "name": "python3"
  },
  "language_info": {
   "codemirror_mode": {
    "name": "ipython",
    "version": 3
   },
   "file_extension": ".py",
   "mimetype": "text/x-python",
   "name": "python",
   "nbconvert_exporter": "python",
   "pygments_lexer": "ipython3",
   "version": "3.10.11"
  }
 },
 "nbformat": 4,
 "nbformat_minor": 2
}
